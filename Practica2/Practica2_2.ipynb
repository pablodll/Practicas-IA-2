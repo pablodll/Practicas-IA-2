{
 "cells": [
  {
   "cell_type": "markdown",
   "metadata": {},
   "source": [
    "# **Practica 2.2**\n",
    "#### _Alberto García Doménech - Pablo Daurell Marina_ (Grupo 10)\n",
    "***"
   ]
  },
  {
   "cell_type": "markdown",
   "metadata": {},
   "source": [
    "## Parte 2 (Recuperación de información)"
   ]
  },
  {
   "cell_type": "code",
   "execution_count": 1,
   "metadata": {},
   "outputs": [],
   "source": [
    "from sklearn.datasets import fetch_20newsgroups\n",
    "import numpy as np"
   ]
  },
  {
   "cell_type": "markdown",
   "metadata": {},
   "source": [
    "Para esta práctica vamos a utilizar el dataset ```20 Newsgroup``` de Scikit-learn, que contiene textos de un foro sobres distintos temas muy variados."
   ]
  },
  {
   "cell_type": "code",
   "execution_count": 2,
   "metadata": {},
   "outputs": [
    {
     "name": "stdout",
     "output_type": "stream",
     "text": [
      "Training texts: 11314\n",
      "Test texts: 7532\n"
     ]
    }
   ],
   "source": [
    "# Cargamos el dataset\n",
    "train_data = fetch_20newsgroups(subset='train', shuffle=True, random_state=42)\n",
    "test_data = fetch_20newsgroups(subset='test')\n",
    "\n",
    "print(\"Training texts:\", len(train_data.data))\n",
    "print(\"Test texts:\", len(test_data.data))"
   ]
  },
  {
   "cell_type": "markdown",
   "metadata": {},
   "source": [
    "Podemos ver algunos ejemplos de los textos que hay en el dataset:"
   ]
  },
  {
   "cell_type": "code",
   "execution_count": 3,
   "metadata": {},
   "outputs": [
    {
     "name": "stdout",
     "output_type": "stream",
     "text": [
      "MENSAJE:\n",
      " From: shd2001@andy.bgsu.edu (Sherlette Dixon)\n",
      "Subject: Christianity & Atheism:  an update\n",
      "Organization: BGSU\n",
      "Lines: 32\n",
      "\n",
      "First, I would like to thank all who sent me their opinions on the matter\n",
      "at hand.  All advice was taken to heart, if not directly used.  My friend\n",
      "found out about the matter quite accidently.  After reading some of my\n",
      "mail, I quit from the mail reader & went about my business.  I must have\n",
      "trashed my mail improperly, because he got on the same terminal the next\n",
      "day & saw my old messages.  He thought they were responses to a post he\n",
      "placed in alt.atheism earlier that week, so he read some of them before\n",
      "realizing that they were for me.  I got a message from him the next day; he\n",
      "apologized for reading my mail & said that he did not want to appear to be\n",
      "a snoop.  He said that he would be willing to talk to me about his views &\n",
      "didn't mind doing so, especially with a friend.  So we did.  I neither\n",
      "changed his mind nor did he change mine, as that was not the point.  Now he\n",
      "knows where I'm coming from & now I know where he's coming from.  And all\n",
      "that I can do is pray for him, as I've always done.\n",
      "\n",
      "I believe the reason that he & I \"click\" instead of \"bash\" heads is because\n",
      "I see Christianity as a tool for revolution, & not a tool for maintaining\n",
      "the status quo.  To be quite blunt, I have more of a reason to reject God\n",
      "than he does just by the fact that I am an African-American female. \n",
      "Christianity & religion have been used as tools to separate my people from\n",
      "the true knowledge of our history & the wealth of our contributions to the\n",
      "world society.  The \"kitchen of heaven\" was all we had to look forward to\n",
      "during the slave days, & this mentality & second-class status still exists\n",
      "today.  I, too, have rejected\n",
      "an aspect of Christianity----that of the estabished church.  Too much\n",
      "hypocricy exists behind the walls of \"God's house\" beginning with the\n",
      "images of a white Jesus to that of the members:  praise God on Sunday &\n",
      "raise hell beginning Monday.  God-willing, I will find a church home where\n",
      "I can feel comfortable & at-home, but I don't see it happening anytime\n",
      "soon.\n",
      "\n",
      "Sherlette \n",
      "\n",
      "CLASE:  soc.religion.christian\n"
     ]
    }
   ],
   "source": [
    "print('MENSAJE:\\n',train_data.data[120])\n",
    "print('CLASE: ', train_data.target_names[train_data.target[120]])"
   ]
  },
  {
   "cell_type": "code",
   "execution_count": 4,
   "metadata": {},
   "outputs": [
    {
     "name": "stdout",
     "output_type": "stream",
     "text": [
      "MENSAJE:\n",
      " From: ab245@cleveland.Freenet.Edu (Sam Latonia)\n",
      "Subject: Re: Need phone number for Western Digital (ESDI problem)\n",
      "Organization: Case Western Reserve University, Cleveland, Ohio (USA)\n",
      "Lines: 5\n",
      "NNTP-Posting-Host: slc10.ins.cwru.edu\n",
      "\n",
      "\n",
      "Western Digital 1-800-832-4778.....Sam\n",
      "-- \n",
      "Gosh..I think I just installed a virus..It was called MS DOS6...\n",
      "Don't copy that floppy..BURN IT...I just love Windows...CRASH...\n",
      "\n",
      "CLASE:  comp.sys.ibm.pc.hardware\n"
     ]
    }
   ],
   "source": [
    "print('MENSAJE:\\n',train_data.data[42])\n",
    "print('CLASE: ', train_data.target_names[train_data.target[42]])"
   ]
  },
  {
   "cell_type": "markdown",
   "metadata": {},
   "source": [
    "Convertimos el conjunto de datos en una bolsa de palabras, binaria y con n-gramas (1,1), usaremos como vocabulario el diccionario ```words.txt``` (https://github.com/dwyl/english-words/blob/master/words.txt)"
   ]
  },
  {
   "cell_type": "code",
   "execution_count": 5,
   "metadata": {},
   "outputs": [],
   "source": [
    "from sklearn.feature_extraction.text import CountVectorizer"
   ]
  },
  {
   "cell_type": "code",
   "execution_count": 6,
   "metadata": {},
   "outputs": [
    {
     "name": "stdout",
     "output_type": "stream",
     "text": [
      "466551\n"
     ]
    }
   ],
   "source": [
    "# Pasamos el diccionario a una lista\n",
    "with open('words.txt') as f:\n",
    "    dictionary = f.read().splitlines()\n",
    "\n",
    "# Creamos la bolsa de palabras\n",
    "vectorizer = CountVectorizer(binary=False, ngram_range=(1,1), vocabulary=dictionary, stop_words='english')  \n",
    "\n",
    "# Entrenamos al modelo\n",
    "train_vector_data = vectorizer.fit_transform(train_data.data)\n",
    "\n",
    "feature_names = vectorizer.get_feature_names()\n",
    "print(len(feature_names))"
   ]
  },
  {
   "cell_type": "code",
   "execution_count": 122,
   "metadata": {},
   "outputs": [],
   "source": [
    "def select_messages(data, target, target_names):\n",
    "    '''\n",
    "    Selecciona tres mensajes de cada clase\n",
    "    Return: Matriz con una fila por cada clase y tres mensajes por cada fila\n",
    "    '''\n",
    "    messages = []\n",
    "    # Recorremos todas las clases\n",
    "    for i in range(len(target_names)):\n",
    "        # Seleccionamos las posiciones correspondientes a los mensajes de la clase i\n",
    "        indices = np.asarray(np.where(target == i)).ravel()\n",
    "        # Cogemos los 3 primeros mensajes de la clase i\n",
    "        aux = np.take(data, indices)[0:3]\n",
    "        messages.append(aux)\n",
    "    \n",
    "    return np.array(messages)\n",
    "\n",
    "def vectorize_messages(data, vectorizer):\n",
    "    '''\n",
    "    Recibe una matriz de textos y convierte cada texto a una bolsa de palabras,\n",
    "    usando un vectorizador previamente entrenado\n",
    "    '''\n",
    "    # Recorremos todas las filas (una por cada clase)\n",
    "    vector_data = []\n",
    "    for i in range(np.shape(data)[0]):\n",
    "        vector_data.append(vectorizer.transform(data[i, :]))\n",
    "        \n",
    "    return np.array(vector_data)"
   ]
  },
  {
   "cell_type": "code",
   "execution_count": 94,
   "metadata": {},
   "outputs": [],
   "source": [
    "messages = select_messages(test_data.data, test_data.target, test_data.target_names)"
   ]
  },
  {
   "cell_type": "code",
   "execution_count": 127,
   "metadata": {},
   "outputs": [],
   "source": [
    "vector_messages = vectorize_messages(messages, vectorizer)"
   ]
  }
 ],
 "metadata": {
  "kernelspec": {
   "display_name": "Python 3",
   "language": "python",
   "name": "python3"
  },
  "language_info": {
   "codemirror_mode": {
    "name": "ipython",
    "version": 3
   },
   "file_extension": ".py",
   "mimetype": "text/x-python",
   "name": "python",
   "nbconvert_exporter": "python",
   "pygments_lexer": "ipython3",
   "version": "3.7.4"
  }
 },
 "nbformat": 4,
 "nbformat_minor": 4
}
