{
 "cells": [
  {
   "cell_type": "markdown",
   "metadata": {},
   "source": [
    "# **Practica 2**\n",
    "#### _Alberto García Doménech - Pablo Daurell Marina_ (Grupo 10)\n",
    "***"
   ]
  },
  {
   "cell_type": "markdown",
   "metadata": {},
   "source": [
    "## Parte 1 (Análisis de sentimiento)"
   ]
  },
  {
   "cell_type": "code",
   "execution_count": 1,
   "metadata": {},
   "outputs": [],
   "source": [
    "import pandas as pd"
   ]
  },
  {
   "cell_type": "code",
   "execution_count": 2,
   "metadata": {},
   "outputs": [],
   "source": [
    "df = pd.read_csv(\"yelp_labelled.txt\", sep='\\t', names=['Data', 'Target'])\n",
    "data = df.to_numpy()[:, 0]\n",
    "target = df.to_numpy()[:, 1]\n",
    "target = target.astype('int')"
   ]
  },
  {
   "cell_type": "code",
   "execution_count": 3,
   "metadata": {},
   "outputs": [
    {
     "name": "stdout",
     "output_type": "stream",
     "text": [
      "Wow... Loved this place. 1\n",
      "Crust is not good. 0\n",
      "Not tasty and the texture was just nasty. 0\n",
      "Stopped by during the late May bank holiday off Rick Steve recommendation and loved it. 1\n",
      "The selection on the menu was great and so were the prices. 1\n",
      "Now I am getting angry and I want my damn pho. 0\n",
      "Honeslty it didn't taste THAT fresh.) 0\n",
      "The potatoes were like rubber and you could tell they had been made up ahead of time being kept under a warmer. 0\n",
      "The fries were great too. 1\n",
      "A great touch. 1\n"
     ]
    }
   ],
   "source": [
    "for i in range(10):\n",
    "    print(data[i], target[i])"
   ]
  },
  {
   "cell_type": "code",
   "execution_count": 86,
   "metadata": {},
   "outputs": [
    {
     "name": "stdout",
     "output_type": "stream",
     "text": [
      "Numero de opiniones negativas:  500\n",
      "Numero de opiniones positivas:  500\n"
     ]
    }
   ],
   "source": [
    "print(\"Numero de opiniones negativas: \", np.count_nonzero(target == 0))\n",
    "print(\"Numero de opiniones positivas: \", np.count_nonzero(target == 1))"
   ]
  },
  {
   "cell_type": "code",
   "execution_count": 82,
   "metadata": {},
   "outputs": [],
   "source": [
    "from sklearn.model_selection import train_test_split\n",
    "\n",
    "train_data, test_data, train_target, test_target = train_test_split(data, target, test_size=0.25, random_state=0)"
   ]
  },
  {
   "cell_type": "code",
   "execution_count": 5,
   "metadata": {},
   "outputs": [
    {
     "name": "stdout",
     "output_type": "stream",
     "text": [
      "Training size:  750\n",
      "Test size:  250\n"
     ]
    }
   ],
   "source": [
    "print(\"Training size: \", train_data.size)\n",
    "print(\"Test size: \", test_data.size)"
   ]
  },
  {
   "cell_type": "code",
   "execution_count": 6,
   "metadata": {},
   "outputs": [],
   "source": [
    "import numpy as np\n",
    "import numpy.ma as ma\n",
    "\n",
    "def write_terms (feature_names, data, vector_data, index):\n",
    "    '''\n",
    "    Escribe los términos presentes en un mensaje representado como bolsa de palabras.\n",
    "    \n",
    "    - feature_names: terminos usados para vectorizar\n",
    "    - data: lista de mensajes original (si data==None no se muestra el mensaje original)\n",
    "    - vector_data: matriz (dispersa) de mensaje vectorizados\n",
    "    - index: posición del mensaje a mostrar\n",
    "    '''\n",
    "    # máscara para seleccionar sólo el mensaje en posición index\n",
    "    mask=vector_data[index,:]>0\n",
    "    \n",
    "    # términos que aparecen en ese mensaje vectorizado\n",
    "    terminos = ma.array(feature_names, mask = ~(mask[0].toarray()))\n",
    "    \n",
    "    # mostrar mensaje original\n",
    "    if data.any():\n",
    "        print('Mensaje', index, ':', data[index])\n",
    "    \n",
    "    # mostrar términos que aparecen en el mensaje vectorizado\n",
    "    print('Mensaje', index, 'vectorizado:', terminos.compressed(),'\\n')"
   ]
  },
  {
   "cell_type": "markdown",
   "metadata": {},
   "source": [
    "## A) Bolsas de palabras"
   ]
  },
  {
   "cell_type": "code",
   "execution_count": 7,
   "metadata": {},
   "outputs": [],
   "source": [
    "# Diccionario vacío para ir guardando los resultados de cada clasificador\n",
    "rates = {}"
   ]
  },
  {
   "cell_type": "code",
   "execution_count": 8,
   "metadata": {},
   "outputs": [],
   "source": [
    "from sklearn.feature_extraction.text import CountVectorizer\n",
    "from sklearn.feature_extraction.text import TfidfTransformer"
   ]
  },
  {
   "cell_type": "markdown",
   "metadata": {},
   "source": [
    "### 1. Bolsa de palabras binaria y n-gramas (1,1) "
   ]
  },
  {
   "cell_type": "markdown",
   "metadata": {},
   "source": [
    "Creamos una bolsa de palabras con monogramas (solo tenemos en cuenta la probabilidad de una palabra, independientemente del resto) y que tenga en cuenta si una palabra aparece o no:"
   ]
  },
  {
   "cell_type": "code",
   "execution_count": 9,
   "metadata": {},
   "outputs": [
    {
     "name": "stdout",
     "output_type": "stream",
     "text": [
      "1510\n"
     ]
    }
   ],
   "source": [
    "vectorizer = CountVectorizer(stop_words='english', binary=True, ngram_range = (1,1)) \n",
    "train_vector_data = vectorizer.fit_transform(train_data)\n",
    "\n",
    "feature_names = vectorizer.get_feature_names()\n",
    "print(len(feature_names))"
   ]
  },
  {
   "cell_type": "markdown",
   "metadata": {},
   "source": [
    "Ajustamos los datos de test al modelo de bolsa de palabra que acabamos de crear:"
   ]
  },
  {
   "cell_type": "code",
   "execution_count": 10,
   "metadata": {},
   "outputs": [
    {
     "name": "stdout",
     "output_type": "stream",
     "text": [
      "(250, 1510)\n"
     ]
    }
   ],
   "source": [
    "test_vector_data = vectorizer.transform(test_data)\n",
    "print(test_vector_data.shape)"
   ]
  },
  {
   "cell_type": "markdown",
   "metadata": {},
   "source": [
    "Con ayuda de la función ```write_terms```, previamente definida, podemos ver algunos ejemplos de como se han vectorizado los mensajes:"
   ]
  },
  {
   "cell_type": "code",
   "execution_count": 11,
   "metadata": {},
   "outputs": [
    {
     "name": "stdout",
     "output_type": "stream",
     "text": [
      "Mensaje 1 : And the chef was generous with his time (even came around twice so we can take pictures with him).\n",
      "Mensaje 1 vectorizado: ['came' 'chef' 'generous' 'pictures' 'time' 'twice'] \n",
      "\n",
      "Mensaje 10 : The cashew cream sauce was bland and the vegetables were undercooked.\n",
      "Mensaje 10 vectorizado: ['bland' 'cashew' 'cream' 'sauce' 'undercooked' 'vegetables'] \n",
      "\n",
      "Mensaje 100 : Now this dish was quite flavourful.\n",
      "Mensaje 100 vectorizado: ['dish' 'flavourful' 'quite'] \n",
      "\n"
     ]
    }
   ],
   "source": [
    "write_terms(feature_names, train_data, train_vector_data, 1)\n",
    "write_terms(feature_names, train_data, train_vector_data, 10)\n",
    "write_terms(feature_names, train_data, train_vector_data, 100)"
   ]
  },
  {
   "cell_type": "markdown",
   "metadata": {},
   "source": [
    "#### 1.1 Naive Bayes:"
   ]
  },
  {
   "cell_type": "markdown",
   "metadata": {},
   "source": [
    "- Utilizamos un clasificador Naive Bayes Multinomial (Binarizado), que es útil cuando lo que estamos teniendo en cuenta es la aparición de las palabras, independientemente de su frecuencia."
   ]
  },
  {
   "cell_type": "code",
   "execution_count": 12,
   "metadata": {},
   "outputs": [
    {
     "name": "stdout",
     "output_type": "stream",
     "text": [
      "Multinomial Naive Bayes, porcentaje de aciertos en entrenamiento: 0.9573333333333334\n",
      "Multinomial Naive Bayes, porcentaje de aciertos en test: 0.728\n"
     ]
    }
   ],
   "source": [
    "from sklearn.naive_bayes import MultinomialNB\n",
    "\n",
    "mnb_classifier = MultinomialNB()\n",
    "\n",
    "mnb_classifier.fit(train_vector_data, train_target)\n",
    "\n",
    "mnb_train_predictions = mnb_classifier.predict(train_vector_data)\n",
    "mnb_test_predictions = mnb_classifier.predict(test_vector_data)\n",
    "\n",
    "rates.update({'mnb_binary_monogram': {'Train': np.mean(mnb_train_predictions == train_target),\n",
    "                                'Test' : np.mean(mnb_test_predictions == test_target)}})\n",
    "\n",
    "print(\"Multinomial Naive Bayes, porcentaje de aciertos en entrenamiento:\", rates['mnb_binary_monogram']['Train'])\n",
    "print(\"Multinomial Naive Bayes, porcentaje de aciertos en test:\", rates['mnb_binary_monogram']['Test'])"
   ]
  },
  {
   "cell_type": "markdown",
   "metadata": {},
   "source": [
    "#### 1.2 Árbol de decisión:"
   ]
  },
  {
   "cell_type": "markdown",
   "metadata": {},
   "source": [
    "- Probamos distintos valores para el parámetro ```max_depth```para encontrar el que maximice el porcentaje de aciertos en entrnamiento:"
   ]
  },
  {
   "cell_type": "code",
   "execution_count": 13,
   "metadata": {},
   "outputs": [],
   "source": [
    "from sklearn import tree\n",
    "\n",
    "train_accuracy = []\n",
    "test_accuracy = []\n",
    "\n",
    "max_depths = range(2, 60)\n",
    "for md in max_depths: \n",
    "    # Entrenar y validar\n",
    "    tree_classifier = tree.DecisionTreeClassifier(criterion=\"entropy\", max_depth=md, min_samples_split=2)\n",
    "    tree_classifier.fit(train_vector_data, train_target)\n",
    "                        \n",
    "    tree_train_predictions = tree_classifier.predict(train_vector_data)\n",
    "    tree_test_predictions = tree_classifier.predict(test_vector_data)    \n",
    "    \n",
    "    train_accuracy.append(np.mean(tree_train_predictions == train_target))\n",
    "    test_accuracy.append(np.mean(tree_test_predictions == test_target))"
   ]
  },
  {
   "cell_type": "code",
   "execution_count": 14,
   "metadata": {},
   "outputs": [
    {
     "data": {
      "text/plain": [
       "<Figure size 640x480 with 1 Axes>"
      ]
     },
     "metadata": {},
     "output_type": "display_data"
    }
   ],
   "source": [
    "import matplotlib.pyplot as plt\n",
    "\n",
    "# Draw lines\n",
    "plt.plot(max_depths, train_accuracy, color=\"r\",  label=\"Training\")\n",
    "plt.plot(max_depths, test_accuracy, color=\"g\", label=\"Test\")\n",
    "\n",
    "# Create plot\n",
    "plt.title(\"Curva de aprendizaje\")\n",
    "plt.xlabel(\"Parametro\"), plt.ylabel(\"Accuracy Score\"), plt.legend(loc=\"best\")\n",
    "plt.tight_layout()\n",
    "plt.show()   "
   ]
  },
  {
   "cell_type": "markdown",
   "metadata": {},
   "source": [
    "- Vemos que con un ```max_depth``` cercano a **39** obtenemos el mejor porcentaje de aciertos en test y un buen porcentaje de aciertos en entrenamiento.   \n",
    "- Entrenamos un árbol de decisión con este valor:"
   ]
  },
  {
   "cell_type": "code",
   "execution_count": 15,
   "metadata": {},
   "outputs": [
    {
     "name": "stdout",
     "output_type": "stream",
     "text": [
      "Árbol, porcentaje de aciertos en entrenamiento: 0.896\n",
      "Árbol, porcentaje de aciertos en test: 0.708\n"
     ]
    }
   ],
   "source": [
    "from sklearn import tree\n",
    "\n",
    "tree_classifier = tree.DecisionTreeClassifier(max_depth = 39, random_state=0)\n",
    "tree_classifier.fit(train_vector_data, train_target)\n",
    "\n",
    "tree_train_predictions = tree_classifier.predict(train_vector_data)\n",
    "tree_test_predictions = tree_classifier.predict(test_vector_data)\n",
    "\n",
    "rates.update({'tree_binary_monogram': {'Train': np.mean(tree_train_predictions == train_target),\n",
    "                                'Test' : np.mean(tree_test_predictions == test_target)}})\n",
    "\n",
    "print(\"Árbol, porcentaje de aciertos en entrenamiento:\", rates['tree_binary_monogram']['Train'])\n",
    "print(\"Árbol, porcentaje de aciertos en test:\", rates['tree_binary_monogram']['Test'])"
   ]
  },
  {
   "cell_type": "markdown",
   "metadata": {},
   "source": [
    "### 2. Bolsa de palabras con TF-IDF y n-gramas (1,1)"
   ]
  },
  {
   "cell_type": "markdown",
   "metadata": {},
   "source": [
    "Creamos una bolsa de palabras con monogramas (solo tenemos en cuenta la probabilidad de una palabra, independientemente del resto) y que tenga en cuenta la frecuencia de aparición:"
   ]
  },
  {
   "cell_type": "code",
   "execution_count": 16,
   "metadata": {},
   "outputs": [
    {
     "name": "stdout",
     "output_type": "stream",
     "text": [
      "1510\n"
     ]
    }
   ],
   "source": [
    "vectorizer = CountVectorizer(stop_words='english', binary=False, ngram_range = (1,1))\n",
    "train_vector_data = vectorizer.fit_transform(train_data)\n",
    "\n",
    "feature_names = vectorizer.get_feature_names()\n",
    "print(len(feature_names))"
   ]
  },
  {
   "cell_type": "markdown",
   "metadata": {},
   "source": [
    "Una vez generada la bolsa de palabras, convertimos los valores de frecuencia a TF-IDF:"
   ]
  },
  {
   "cell_type": "code",
   "execution_count": 17,
   "metadata": {},
   "outputs": [
    {
     "name": "stdout",
     "output_type": "stream",
     "text": [
      "(750, 1510)\n"
     ]
    }
   ],
   "source": [
    "tfider = TfidfTransformer()\n",
    "train_preprocessed = tfider.fit_transform(train_vector_data)\n",
    "print(train_preprocessed.shape)"
   ]
  },
  {
   "cell_type": "markdown",
   "metadata": {},
   "source": [
    "Ajustamos los datos de test al modelo de bolsa de palabra que acabamos de crear:"
   ]
  },
  {
   "cell_type": "code",
   "execution_count": 18,
   "metadata": {},
   "outputs": [
    {
     "name": "stdout",
     "output_type": "stream",
     "text": [
      "(250, 1510)\n"
     ]
    }
   ],
   "source": [
    "test_vector_data = vectorizer.transform(test_data)\n",
    "test_preprocessed = tfider.transform(test_vector_data)\n",
    "print(test_preprocessed.shape)"
   ]
  },
  {
   "cell_type": "markdown",
   "metadata": {},
   "source": [
    "#### 2.1 Naive Bayes:"
   ]
  },
  {
   "cell_type": "markdown",
   "metadata": {},
   "source": [
    "- Utilizamos un clasificador Naive Bayes Gaussiano, ya que estamos teniendo en cuenta un valor continuo como es el TF-IDF."
   ]
  },
  {
   "cell_type": "code",
   "execution_count": 19,
   "metadata": {},
   "outputs": [],
   "source": [
    "### GaussianNB no trabaja con matrices dispersas\n",
    "### Utilizamos la opción partial_fit pasándole fragmentos de la matriz de datos\n",
    "\n",
    "from sklearn.naive_bayes import GaussianNB\n",
    "\n",
    "gnb_classifier = GaussianNB()\n",
    "\n",
    "chunk_size = 100\n",
    "num_rows = len(train_target)\n",
    "\n",
    "for i in range(0, (num_rows//chunk_size)):\n",
    "    train_chunk = train_preprocessed[i*chunk_size : (i+1)*chunk_size, :].toarray()\n",
    "    target_chunk = train_target[i*chunk_size : (i+1)*chunk_size]\n",
    "    gnb_classifier.partial_fit(train_chunk, target_chunk, classes=np.unique(train_target))"
   ]
  },
  {
   "cell_type": "code",
   "execution_count": 20,
   "metadata": {},
   "outputs": [
    {
     "name": "stdout",
     "output_type": "stream",
     "text": [
      "Gaussian Naive Bayes, porcentaje de aciertos en entrenamiento: 0.9106666666666666\n",
      "Gaussian Naive Bayes, porcentaje de aciertos en test: 0.612\n"
     ]
    }
   ],
   "source": [
    "### GaussianNB no trabaja con matrices disperas, tampoco a la hora de estimar\n",
    "### Vamos a estimar por trozos y después agregar los resultados\n",
    "\n",
    "gnb_train_predictions = np.zeros_like(train_target)\n",
    "gnb_test_predictions = np.zeros_like(test_target)\n",
    "\n",
    "for i in range(0, (num_rows//chunk_size)):\n",
    "    train_chunk = train_preprocessed[i*chunk_size : (i+1)*chunk_size, :].toarray()\n",
    "    gnb_train_predictions[i*chunk_size : (i+1)*chunk_size] = gnb_classifier.predict(train_chunk)\n",
    "    \n",
    "num_rows = len(test_target)\n",
    "for i in range(0, (num_rows//chunk_size)):\n",
    "    test_chunk = test_preprocessed[i*chunk_size : (i+1)*chunk_size, :].toarray()\n",
    "    gnb_test_predictions[i*chunk_size : (i+1)*chunk_size] = gnb_classifier.predict(test_chunk)\n",
    "    \n",
    "    \n",
    "rates.update({'gnb_tfidf_monogram': {'Train': np.mean(gnb_train_predictions == train_target),\n",
    "                                'Test' : np.mean(gnb_test_predictions == test_target)}})\n",
    "    \n",
    "print(\"Gaussian Naive Bayes, porcentaje de aciertos en entrenamiento:\", rates['gnb_tfidf_monogram']['Train'])\n",
    "print(\"Gaussian Naive Bayes, porcentaje de aciertos en test:\", rates['gnb_tfidf_monogram']['Test'])"
   ]
  },
  {
   "cell_type": "markdown",
   "metadata": {},
   "source": [
    "- Este clasificador nos da unos malos resultados porque los datos no siguen una distribución normal, sino que siguen una distribución asimétrica a la derecha: "
   ]
  },
  {
   "cell_type": "code",
   "execution_count": 21,
   "metadata": {},
   "outputs": [
    {
     "data": {
      "text/plain": [
       "<matplotlib.axes._subplots.AxesSubplot at 0x18458f17648>"
      ]
     },
     "execution_count": 21,
     "metadata": {},
     "output_type": "execute_result"
    },
    {
     "data": {
      "image/png": "[encoded data removed]",
      "text/plain": [
       "<Figure size 432x288 with 1 Axes>"
      ]
     },
     "metadata": {
      "needs_background": "light"
     },
     "output_type": "display_data"
    },
    {
     "data": {
      "image/png": "[encoded data removed]",
      "text/plain": [
       "<Figure size 432x288 with 1 Axes>"
      ]
     },
     "metadata": {
      "needs_background": "light"
     },
     "output_type": "display_data"
    }
   ],
   "source": [
    "import pandas as pd\n",
    "\n",
    "term=pd.DataFrame(data= train_preprocessed[:,381].toarray(), columns=[feature_names[100]])\n",
    "term.plot.hist()\n",
    "\n",
    "term=pd.DataFrame(data= train_preprocessed[:,500].toarray(), columns=[feature_names[500]])\n",
    "term.plot.hist()"
   ]
  },
  {
   "cell_type": "markdown",
   "metadata": {},
   "source": [
    "#### 2.2 Árbol de decisión:"
   ]
  },
  {
   "cell_type": "markdown",
   "metadata": {},
   "source": [
    "- Probamos distintos valores para el parámetro ```max_depth```para encontrar el que maximice el porcentaje de aciertos en entrnamiento:"
   ]
  },
  {
   "cell_type": "code",
   "execution_count": 22,
   "metadata": {},
   "outputs": [],
   "source": [
    "from sklearn import tree\n",
    "\n",
    "train_accuracy = []\n",
    "test_accuracy = []\n",
    "\n",
    "max_depths = range(2, 70)\n",
    "for md in max_depths: \n",
    "    # Entrenar y validar\n",
    "    tree_classifier = tree.DecisionTreeClassifier(criterion=\"entropy\", max_depth=md, min_samples_split=2)\n",
    "    tree_classifier.fit(train_preprocessed, train_target)\n",
    "                        \n",
    "    tree_train_predictions = tree_classifier.predict(train_preprocessed)\n",
    "    tree_test_predictions = tree_classifier.predict(test_preprocessed)    \n",
    "    \n",
    "    train_accuracy.append(np.mean(tree_train_predictions == train_target))\n",
    "    test_accuracy.append(np.mean(tree_test_predictions == test_target))"
   ]
  },
  {
   "cell_type": "code",
   "execution_count": 23,
   "metadata": {},
   "outputs": [
    {
     "data": {
      "image/png": "[encoded data removed]",
      "text/plain": [
       "<Figure size 432x288 with 1 Axes>"
      ]
     },
     "metadata": {
      "needs_background": "light"
     },
     "output_type": "display_data"
    }
   ],
   "source": [
    "import matplotlib.pyplot as plt\n",
    "\n",
    "# Draw lines\n",
    "plt.plot(max_depths, train_accuracy, color=\"r\",  label=\"Training\")\n",
    "plt.plot(max_depths, test_accuracy, color=\"g\", label=\"Test\")\n",
    "\n",
    "# Create plot\n",
    "plt.title(\"Curva de aprendizaje\")\n",
    "plt.xlabel(\"Parametro\"), plt.ylabel(\"Accuracy Score\"), plt.legend(loc=\"best\")\n",
    "plt.tight_layout()\n",
    "plt.show()   "
   ]
  },
  {
   "cell_type": "markdown",
   "metadata": {},
   "source": [
    "- Vemos que con un ```max_depth``` cercano a **17** obtenemos el mejor porcentaje de aciertos en test y un buen porcentaje de aciertos en entrenamiento.   \n",
    "- Entrenamos un árbol de decisión con este valor:"
   ]
  },
  {
   "cell_type": "code",
   "execution_count": 24,
   "metadata": {},
   "outputs": [
    {
     "name": "stdout",
     "output_type": "stream",
     "text": [
      "Árbol, porcentaje de aciertos en entrenamiento: 0.82\n",
      "Árbol, porcentaje de aciertos en test: 0.72\n"
     ]
    }
   ],
   "source": [
    "from sklearn import tree\n",
    "\n",
    "tree_classifier = tree.DecisionTreeClassifier(max_depth = 17, random_state=0)\n",
    "tree_classifier.fit(train_preprocessed, train_target)\n",
    "\n",
    "tree_train_predictions = tree_classifier.predict(train_preprocessed)\n",
    "tree_test_predictions = tree_classifier.predict(test_preprocessed)\n",
    "\n",
    "rates.update({'tree_tfidf_monogram': {'Train': np.mean(tree_train_predictions == train_target),\n",
    "                                'Test' : np.mean(tree_test_predictions == test_target)}})\n",
    "\n",
    "print(\"Árbol, porcentaje de aciertos en entrenamiento:\", rates['tree_tfidf_monogram']['Train'])\n",
    "print(\"Árbol, porcentaje de aciertos en test:\", rates['tree_tfidf_monogram']['Test'])"
   ]
  },
  {
   "cell_type": "markdown",
   "metadata": {},
   "source": [
    "### 3. Bolsa de palabras binarias y n-gramas (1,2)"
   ]
  },
  {
   "cell_type": "markdown",
   "metadata": {},
   "source": [
    "Creamos una bolsa de palabras con bigramas (tenemos en cuenta la probabilidad de una palabra en función de la palabra anterior) y que tenga en cuenta si una palabra aparece o no:"
   ]
  },
  {
   "cell_type": "code",
   "execution_count": 25,
   "metadata": {},
   "outputs": [
    {
     "name": "stdout",
     "output_type": "stream",
     "text": [
      "4347\n"
     ]
    }
   ],
   "source": [
    "vectorizer = CountVectorizer(stop_words='english', binary=True, ngram_range = (1,2)) \n",
    "train_vector_data = vectorizer.fit_transform(train_data)\n",
    "\n",
    "feature_names = vectorizer.get_feature_names()\n",
    "print(len(feature_names))"
   ]
  },
  {
   "cell_type": "markdown",
   "metadata": {},
   "source": [
    "Ajustamos los datos de test al modelo de bolsa de palabra que acabamos de crear:"
   ]
  },
  {
   "cell_type": "code",
   "execution_count": 26,
   "metadata": {},
   "outputs": [
    {
     "name": "stdout",
     "output_type": "stream",
     "text": [
      "(250, 4347)\n"
     ]
    }
   ],
   "source": [
    "test_vector_data = vectorizer.transform(test_data)\n",
    "print(test_vector_data.shape)"
   ]
  },
  {
   "cell_type": "markdown",
   "metadata": {},
   "source": [
    "Con ayuda de la función ```write_terms```, podemos ver algunos ejemplos de como se han vectorizado los mensajes.  \n",
    "> A diferencia de los dos casos anteriores, aquí usamos bigramas. Vemos como eso hace que aumente el número de términos (antes 1510, ahora 4347) y podemos ver en los mensajes vectorizados que ahora algunos terminos constan de dos palabras:"
   ]
  },
  {
   "cell_type": "code",
   "execution_count": 27,
   "metadata": {},
   "outputs": [
    {
     "name": "stdout",
     "output_type": "stream",
     "text": [
      "Mensaje 1 : And the chef was generous with his time (even came around twice so we can take pictures with him).\n",
      "Mensaje 1 vectorizado: ['came' 'came twice' 'chef' 'chef generous' 'generous' 'generous time'\n",
      " 'pictures' 'time' 'time came' 'twice' 'twice pictures'] \n",
      "\n",
      "Mensaje 10 : The cashew cream sauce was bland and the vegetables were undercooked.\n",
      "Mensaje 10 vectorizado: ['bland' 'bland vegetables' 'cashew' 'cashew cream' 'cream' 'cream sauce'\n",
      " 'sauce' 'sauce bland' 'undercooked' 'vegetables' 'vegetables undercooked'] \n",
      "\n",
      "Mensaje 100 : Now this dish was quite flavourful.\n",
      "Mensaje 100 vectorizado: ['dish' 'dish quite' 'flavourful' 'quite' 'quite flavourful'] \n",
      "\n"
     ]
    }
   ],
   "source": [
    "write_terms(feature_names, train_data, train_vector_data, 1)\n",
    "write_terms(feature_names, train_data, train_vector_data, 10)\n",
    "write_terms(feature_names, train_data, train_vector_data, 100)"
   ]
  },
  {
   "cell_type": "markdown",
   "metadata": {},
   "source": [
    "#### 3.1 Naive Bayes:"
   ]
  },
  {
   "cell_type": "markdown",
   "metadata": {},
   "source": [
    "- Utilizamos un clasificador Naive Bayes Multinomial (Binarizado), que es útil cuando lo que estamos teniendo en cuenta es la aparición de las palabras, independientemente de su frecuencia."
   ]
  },
  {
   "cell_type": "code",
   "execution_count": 28,
   "metadata": {},
   "outputs": [
    {
     "name": "stdout",
     "output_type": "stream",
     "text": [
      "Multinomial Naive Bayes, porcentaje de aciertos en entrenamiento: 0.9786666666666667\n",
      "Multinomial Naive Bayes, porcentaje de aciertos en test: 0.732\n"
     ]
    }
   ],
   "source": [
    "from sklearn.naive_bayes import MultinomialNB\n",
    "\n",
    "mnb_classifier = MultinomialNB()\n",
    "\n",
    "mnb_classifier.fit(train_vector_data, train_target)\n",
    "\n",
    "mnb_train_predictions = mnb_classifier.predict(train_vector_data)\n",
    "mnb_test_predictions = mnb_classifier.predict(test_vector_data)\n",
    "\n",
    "rates.update({'mnb_binary_bigram': {'Train': np.mean(mnb_train_predictions == train_target),\n",
    "                                'Test' : np.mean(mnb_test_predictions == test_target)}})\n",
    "\n",
    "print(\"Multinomial Naive Bayes, porcentaje de aciertos en entrenamiento:\",rates['mnb_binary_bigram']['Train'])\n",
    "print(\"Multinomial Naive Bayes, porcentaje de aciertos en test:\", rates['mnb_binary_bigram']['Test'])"
   ]
  },
  {
   "cell_type": "markdown",
   "metadata": {},
   "source": [
    "#### 3.2 Árbol de decisión:"
   ]
  },
  {
   "cell_type": "markdown",
   "metadata": {},
   "source": [
    "- Probamos distintos valores para el parámetro ```max_depth```para encontrar el que maximice el porcentaje de aciertos en entrnamiento:"
   ]
  },
  {
   "cell_type": "code",
   "execution_count": 29,
   "metadata": {},
   "outputs": [],
   "source": [
    "from sklearn import tree\n",
    "\n",
    "train_accuracy = []\n",
    "test_accuracy = []\n",
    "\n",
    "max_depths = range(2, 60)\n",
    "for md in max_depths: \n",
    "    # Entrenar y validar\n",
    "    tree_classifier = tree.DecisionTreeClassifier(criterion=\"entropy\", max_depth=md, min_samples_split=2)\n",
    "    tree_classifier.fit(train_vector_data, train_target)\n",
    "                        \n",
    "    tree_train_predictions = tree_classifier.predict(train_vector_data)\n",
    "    tree_test_predictions = tree_classifier.predict(test_vector_data)    \n",
    "    \n",
    "    train_accuracy.append(np.mean(tree_train_predictions == train_target))\n",
    "    test_accuracy.append(np.mean(tree_test_predictions == test_target))"
   ]
  },
  {
   "cell_type": "code",
   "execution_count": 30,
   "metadata": {},
   "outputs": [
    {
     "data": {
      "image/png": "[encoded data removed]",
      "text/plain": [
       "<Figure size 432x288 with 1 Axes>"
      ]
     },
     "metadata": {
      "needs_background": "light"
     },
     "output_type": "display_data"
    }
   ],
   "source": [
    "import matplotlib.pyplot as plt\n",
    "\n",
    "# Draw lines\n",
    "plt.plot(max_depths, train_accuracy, color=\"r\",  label=\"Training\")\n",
    "plt.plot(max_depths, test_accuracy, color=\"g\", label=\"Test\")\n",
    "\n",
    "# Create plot\n",
    "plt.title(\"Curva de aprendizaje\")\n",
    "plt.xlabel(\"Parametro\"), plt.ylabel(\"Accuracy Score\"), plt.legend(loc=\"best\")\n",
    "plt.tight_layout()\n",
    "plt.show()   "
   ]
  },
  {
   "cell_type": "markdown",
   "metadata": {},
   "source": [
    "- Vemos que con un ```max_depth``` cercano a **38** obtenemos el mejor porcentaje de aciertos en test y un buen porcentaje de aciertos en entrenamiento.   \n",
    "- Entrenamos un árbol de decisión con este valor:"
   ]
  },
  {
   "cell_type": "code",
   "execution_count": 31,
   "metadata": {},
   "outputs": [
    {
     "name": "stdout",
     "output_type": "stream",
     "text": [
      "Árbol, porcentaje de aciertos en entrenamiento: 0.8946666666666667\n",
      "Árbol, porcentaje de aciertos en test: 0.704\n"
     ]
    }
   ],
   "source": [
    "from sklearn import tree\n",
    "\n",
    "tree_classifier = tree.DecisionTreeClassifier(max_depth = 38, random_state=0)\n",
    "tree_classifier.fit(train_vector_data, train_target)\n",
    "\n",
    "tree_train_predictions = tree_classifier.predict(train_vector_data)\n",
    "tree_test_predictions = tree_classifier.predict(test_vector_data)\n",
    "\n",
    "rates.update({'tree_binary_bigram': {'Train': np.mean(tree_train_predictions == train_target),\n",
    "                                'Test' : np.mean(tree_test_predictions == test_target)}})\n",
    "\n",
    "print(\"Árbol, porcentaje de aciertos en entrenamiento:\", rates['tree_binary_bigram']['Train'])\n",
    "print(\"Árbol, porcentaje de aciertos en test:\", rates['tree_binary_bigram']['Test'])"
   ]
  },
  {
   "cell_type": "markdown",
   "metadata": {},
   "source": [
    "### 4. Bolsa de palabras con TF-IDF y n-gramas (1,2)"
   ]
  },
  {
   "cell_type": "markdown",
   "metadata": {},
   "source": [
    "Creamos una bolsa de palabras con bigramas (tenemos en cuenta la probabilidad de una palabra en función de la palabra anterior) y que tenga en cuenta la frecuencia de aparición:"
   ]
  },
  {
   "cell_type": "code",
   "execution_count": 32,
   "metadata": {},
   "outputs": [
    {
     "name": "stdout",
     "output_type": "stream",
     "text": [
      "4347\n"
     ]
    }
   ],
   "source": [
    "vectorizer = CountVectorizer(stop_words='english', binary=False, ngram_range = (1,2))\n",
    "train_vector_data = vectorizer.fit_transform(train_data)\n",
    "\n",
    "feature_names = vectorizer.get_feature_names()\n",
    "print(len(feature_names))"
   ]
  },
  {
   "cell_type": "markdown",
   "metadata": {},
   "source": [
    "Una vez generada la bolsa de palabras, convertimos los valores de frecuencia a TF-IDF:"
   ]
  },
  {
   "cell_type": "code",
   "execution_count": 33,
   "metadata": {},
   "outputs": [
    {
     "name": "stdout",
     "output_type": "stream",
     "text": [
      "(750, 4347)\n"
     ]
    }
   ],
   "source": [
    "tfider = TfidfTransformer()\n",
    "train_preprocessed = tfider.fit_transform(train_vector_data)\n",
    "print(train_preprocessed.shape)"
   ]
  },
  {
   "cell_type": "markdown",
   "metadata": {},
   "source": [
    "Ajustamos los datos de test al modelo de bolsa de palabra que acabamos de crear:"
   ]
  },
  {
   "cell_type": "code",
   "execution_count": 34,
   "metadata": {},
   "outputs": [
    {
     "name": "stdout",
     "output_type": "stream",
     "text": [
      "(250, 4347)\n"
     ]
    }
   ],
   "source": [
    "test_vector_data = vectorizer.transform(test_data)\n",
    "test_preprocessed = tfider.transform(test_vector_data)\n",
    "print(test_preprocessed.shape)"
   ]
  },
  {
   "cell_type": "markdown",
   "metadata": {},
   "source": [
    "#### 4.1 Naive Bayes:"
   ]
  },
  {
   "cell_type": "markdown",
   "metadata": {},
   "source": [
    "- Utilizamos un clasificador Naive Bayes Gaussiano, ya que estamos teniendo en cuenta un valor continuo como es el TF-IDF."
   ]
  },
  {
   "cell_type": "code",
   "execution_count": 35,
   "metadata": {},
   "outputs": [],
   "source": [
    "### GaussianNB no trabaja con matrices dispersas\n",
    "### Utilizamos la opción partial_fit pasándole fragmentos de la matriz de datos\n",
    "\n",
    "from sklearn.naive_bayes import GaussianNB\n",
    "\n",
    "gnb_classifier = GaussianNB()\n",
    "\n",
    "chunk_size = 100\n",
    "num_rows = len(train_target)\n",
    "\n",
    "for i in range(0, (num_rows//chunk_size)):\n",
    "    train_chunk = train_preprocessed[i*chunk_size : (i+1)*chunk_size, :].toarray()\n",
    "    target_chunk = train_target[i*chunk_size : (i+1)*chunk_size]\n",
    "    gnb_classifier.partial_fit(train_chunk, target_chunk, classes=np.unique(train_target))"
   ]
  },
  {
   "cell_type": "code",
   "execution_count": 36,
   "metadata": {},
   "outputs": [
    {
     "name": "stdout",
     "output_type": "stream",
     "text": [
      "Gaussian Naive Bayes, porcentaje de aciertos en entrenamiento: 0.9346666666666666\n",
      "Gaussian Naive Bayes, porcentaje de aciertos en test: 0.616\n"
     ]
    }
   ],
   "source": [
    "### GaussianNB no trabaja con matrices disperas, tampoco a la hora de estimar\n",
    "### Vamos a estimar por trozos y después agregar los resultados\n",
    "\n",
    "gnb_train_predictions = np.zeros_like(train_target)\n",
    "gnb_test_predictions = np.zeros_like(test_target)\n",
    "\n",
    "for i in range(0, (num_rows//chunk_size)):\n",
    "    train_chunk = train_preprocessed[i*chunk_size : (i+1)*chunk_size, :].toarray()\n",
    "    gnb_train_predictions[i*chunk_size : (i+1)*chunk_size] = gnb_classifier.predict(train_chunk)\n",
    "    \n",
    "num_rows = len(test_target)\n",
    "for i in range(0, (num_rows//chunk_size)):\n",
    "    test_chunk = test_preprocessed[i*chunk_size : (i+1)*chunk_size, :].toarray()\n",
    "    gnb_test_predictions[i*chunk_size : (i+1)*chunk_size] = gnb_classifier.predict(test_chunk)\n",
    "    \n",
    "rates.update({'gnb_tfidf_bigram': {'Train': np.mean(gnb_train_predictions == train_target),\n",
    "                                'Test' : np.mean(gnb_test_predictions == test_target)}})    \n",
    "\n",
    "print(\"Gaussian Naive Bayes, porcentaje de aciertos en entrenamiento:\", rates['gnb_tfidf_bigram']['Train'])\n",
    "print(\"Gaussian Naive Bayes, porcentaje de aciertos en test:\", rates['gnb_tfidf_bigram']['Test'])"
   ]
  },
  {
   "cell_type": "markdown",
   "metadata": {},
   "source": [
    "- Este clasificador nos da unos malos resultados porque los datos no siguen una distribución normal, sino que siguen una distribución asimétrica a la derecha: "
   ]
  },
  {
   "cell_type": "code",
   "execution_count": 37,
   "metadata": {},
   "outputs": [
    {
     "data": {
      "text/plain": [
       "<matplotlib.axes._subplots.AxesSubplot at 0x18459286d48>"
      ]
     },
     "execution_count": 37,
     "metadata": {},
     "output_type": "execute_result"
    },
    {
     "data": {
      "image/png": "[encoded data removed]",
      "text/plain": [
       "<Figure size 432x288 with 1 Axes>"
      ]
     },
     "metadata": {
      "needs_background": "light"
     },
     "output_type": "display_data"
    },
    {
     "data": {
      "image/png": "[encoded data removed]",
      "text/plain": [
       "<Figure size 432x288 with 1 Axes>"
      ]
     },
     "metadata": {
      "needs_background": "light"
     },
     "output_type": "display_data"
    }
   ],
   "source": [
    "import pandas as pd\n",
    "\n",
    "term=pd.DataFrame(data= train_preprocessed[:,381].toarray(), columns=[feature_names[100]])\n",
    "term.plot.hist()\n",
    "\n",
    "term=pd.DataFrame(data= train_preprocessed[:,500].toarray(), columns=[feature_names[500]])\n",
    "term.plot.hist()"
   ]
  },
  {
   "cell_type": "markdown",
   "metadata": {},
   "source": [
    "#### 4.2 Árbol de decisión:"
   ]
  },
  {
   "cell_type": "markdown",
   "metadata": {},
   "source": [
    "- Probamos distintos valores para el parámetro ```max_depth```para encontrar el que maximice el porcentaje de aciertos en entrnamiento:"
   ]
  },
  {
   "cell_type": "code",
   "execution_count": 38,
   "metadata": {},
   "outputs": [],
   "source": [
    "from sklearn import tree\n",
    "\n",
    "train_accuracy = []\n",
    "test_accuracy = []\n",
    "\n",
    "max_depths = range(2, 70)\n",
    "for md in max_depths: \n",
    "    # Entrenar y validar\n",
    "    tree_classifier = tree.DecisionTreeClassifier(criterion=\"entropy\", max_depth=md, min_samples_split=2)\n",
    "    tree_classifier.fit(train_preprocessed, train_target)\n",
    "                        \n",
    "    tree_train_predictions = tree_classifier.predict(train_preprocessed)\n",
    "    tree_test_predictions = tree_classifier.predict(test_preprocessed)    \n",
    "    \n",
    "    train_accuracy.append(np.mean(tree_train_predictions == train_target))\n",
    "    test_accuracy.append(np.mean(tree_test_predictions == test_target))"
   ]
  },
  {
   "cell_type": "code",
   "execution_count": 39,
   "metadata": {},
   "outputs": [
    {
     "data": {
      "image/png": "[encoded data removed]",
      "text/plain": [
       "<Figure size 432x288 with 1 Axes>"
      ]
     },
     "metadata": {
      "needs_background": "light"
     },
     "output_type": "display_data"
    }
   ],
   "source": [
    "import matplotlib.pyplot as plt\n",
    "\n",
    "# Draw lines\n",
    "plt.plot(max_depths, train_accuracy, color=\"r\",  label=\"Training\")\n",
    "plt.plot(max_depths, test_accuracy, color=\"g\", label=\"Test\")\n",
    "\n",
    "# Create plot\n",
    "plt.title(\"Curva de aprendizaje\")\n",
    "plt.xlabel(\"Parametro\"), plt.ylabel(\"Accuracy Score\"), plt.legend(loc=\"best\")\n",
    "plt.tight_layout()\n",
    "plt.show()   "
   ]
  },
  {
   "cell_type": "markdown",
   "metadata": {},
   "source": [
    "- Vemos que con un ```max_depth``` cercano a **17** obtenemos el mejor porcentaje de aciertos en test y un buen porcentaje de aciertos en entrenamiento.   \n",
    "- Entrenamos un árbol de decisión con este valor:"
   ]
  },
  {
   "cell_type": "code",
   "execution_count": 40,
   "metadata": {},
   "outputs": [
    {
     "name": "stdout",
     "output_type": "stream",
     "text": [
      "Árbol, porcentaje de aciertos en entrenamiento: 0.82\n",
      "Árbol, porcentaje de aciertos en test: 0.72\n"
     ]
    }
   ],
   "source": [
    "from sklearn import tree\n",
    "\n",
    "tree_classifier = tree.DecisionTreeClassifier(max_depth = 17, random_state=0)\n",
    "tree_classifier.fit(train_preprocessed, train_target)\n",
    "\n",
    "tree_train_predictions = tree_classifier.predict(train_preprocessed)\n",
    "tree_test_predictions = tree_classifier.predict(test_preprocessed)\n",
    "\n",
    "rates.update({'tree_tfidf_bigram': {'Train': np.mean(tree_train_predictions == train_target),\n",
    "                                'Test' : np.mean(tree_test_predictions == test_target)}})\n",
    "\n",
    "print(\"Árbol, porcentaje de aciertos en entrenamiento:\", rates['tree_tfidf_bigram']['Train'])\n",
    "print(\"Árbol, porcentaje de aciertos en test:\", rates['tree_tfidf_bigram']['Test'])"
   ]
  },
  {
   "cell_type": "markdown",
   "metadata": {},
   "source": [
    "### Comparación:"
   ]
  },
  {
   "cell_type": "markdown",
   "metadata": {},
   "source": [
    "- Comprobamos los porcentajes de aciertos para cada conficuración elegida:"
   ]
  },
  {
   "cell_type": "code",
   "execution_count": 41,
   "metadata": {},
   "outputs": [
    {
     "name": "stdout",
     "output_type": "stream",
     "text": [
      "mnb_binary_monogram {'Train': 0.9573333333333334, 'Test': 0.728}\n",
      "tree_binary_monogram {'Train': 0.896, 'Test': 0.708}\n",
      "----------------------\n",
      "gnb_tfidf_monogram {'Train': 0.9106666666666666, 'Test': 0.612}\n",
      "tree_tfidf_monogram {'Train': 0.82, 'Test': 0.72}\n",
      "----------------------\n",
      "mnb_binary_bigram {'Train': 0.9786666666666667, 'Test': 0.732}\n",
      "tree_binary_bigram {'Train': 0.8946666666666667, 'Test': 0.704}\n",
      "----------------------\n",
      "gnb_tfidf_bigram {'Train': 0.9346666666666666, 'Test': 0.616}\n",
      "tree_tfidf_bigram {'Train': 0.82, 'Test': 0.72}\n",
      "----------------------\n"
     ]
    }
   ],
   "source": [
    "i = 0\n",
    "for a, b in rates.items():\n",
    "    print(a, b)\n",
    "    if(i%2 != 0):\n",
    "        print('----------------------')\n",
    "    i = i + 1"
   ]
  },
  {
   "cell_type": "markdown",
   "metadata": {},
   "source": [
    " #### ¿Hay un clasificador que sea superior al otro? ¿por qué crees que sucede?\n"
   ]
  },
  {
   "cell_type": "markdown",
   "metadata": {},
   "source": [
    "Como hemos mencionado antes, el Naive Bayes Gausiano da los peores resultados pero se debe a la asimetría de los datos. \n",
    "\n",
    "Entre el resto de clasificadores podemos observar que los resultados del test no varían tanto, pero obtenemos resultados algo mejores, tanto en entrenamiento como en test, con el clasificador Naive Bayes Multinomial.  \n",
    "\n",
    "El árbol de decisión funciona medianamente bien en todos los casos ya que es un clasificador bastante general, sin embargo para esto han sido necesarios mecanismos de poda para evitar sobreaprendizaje.   \n",
    "Por otro lado, mientras que en el arbol de decisión se van eligiendo palabras una a una para ir separando clases, en el Naive Bayes se tiene en cuenta la probabiblidad de cada palabra de aparecer en cada clase, lo cuál permite calcular más fácilmente a que clase pertenece cada ejemplo."
   ]
  },
  {
   "cell_type": "markdown",
   "metadata": {},
   "source": [
    "#### Para cada clasificador, ¿tiene un efecto positivo el añadir “complejidad” a la vectorización? Es decir, añadir bigramas y añadir tf-idf. ¿Por qué crees que sucede este efecto positivo o la falta del mismo? ###"
   ]
  },
  {
   "cell_type": "markdown",
   "metadata": {},
   "source": [
    "Para el clasificador Naive Bayes hay una ligera mejoría si aumentamos la complejidad de los n-gramas. Esto se debe a que con bigramas tenemos en cuenta más combinaciones de palabras y su probabilidad de aparecer en una clase u otra.   \n",
    "Pero al cambiar la frecuencia binaria por TF-IDF, como usamos un Naive Bayes Gausiano obtenemos peores resultados.\n",
    "\n",
    "En los arboles de decision, si usamos frecuencia binaria, empeoran en resultados de test al añadir bigramas.   \n",
    "Añadiendo TF-IDF conseguimos mejores resultados, independientemente de la complejidad de los n-gramas. Este efecto positivo se debe a a que los arboles de decision pueden elegir variables con mayor poder discriminante si escogen palabras con una frecuencia no binaria.\n",
    "\n",
    "Podemos concluir que podemos mejorar los resultados del Naive Bayes si aumentamos la complejidad de los n-gramas, y podemos mejorar los arboles si usamos TF-IDF en lugar de valores binarios."
   ]
  },
  {
   "cell_type": "markdown",
   "metadata": {},
   "source": [
    "#### Selecciona el mejor árbol de decisión y obtén las 25 variables con más poder discriminante: ¿Predominan más las palabras de uno u otro sentimiento? ¿por qué? ¿hay ruido? ###"
   ]
  },
  {
   "cell_type": "markdown",
   "metadata": {},
   "source": [
    "Seleccionamos cualquiera de los dos árboles de decisión que tengan en cuenta la frecuencia TF/IDF, en este caso cogemos el árbol de decisión con monogramas (ya que queremos analizar las 25 variables con mayor poder discriminante y al ser monogramas estas seran una palabra en vez de poder ser una o dos)"
   ]
  },
  {
   "cell_type": "code",
   "execution_count": 53,
   "metadata": {},
   "outputs": [
    {
     "data": {
      "text/plain": [
       "DecisionTreeClassifier(class_weight=None, criterion='gini', max_depth=17,\n",
       "                       max_features=None, max_leaf_nodes=None,\n",
       "                       min_impurity_decrease=0.0, min_impurity_split=None,\n",
       "                       min_samples_leaf=1, min_samples_split=2,\n",
       "                       min_weight_fraction_leaf=0.0, presort=False,\n",
       "                       random_state=0, splitter='best')"
      ]
     },
     "execution_count": 53,
     "metadata": {},
     "output_type": "execute_result"
    }
   ],
   "source": [
    "from sklearn.tree import plot_tree\n",
    "import matplotlib.pyplot as plt\n",
    "\n",
    "# Creamos la bolsa de palabras\n",
    "vectorizer = CountVectorizer(stop_words='english', binary=False, ngram_range = (1,1))\n",
    "train_vector_data = vectorizer.fit_transform(train_data)\n",
    "feature_names = vectorizer.get_feature_names()\n",
    "\n",
    "# Convertimos las frecuencias a TF-IDF\n",
    "tfider = TfidfTransformer()\n",
    "train_preprocessed = tfider.fit_transform(train_vector_data)\n",
    "# Procesamos tambien los datos de test\n",
    "test_vector_data = vectorizer.transform(test_data)\n",
    "test_preprocessed = tfider.transform(test_vector_data)\n",
    "\n",
    "# Entrenamos al arbol\n",
    "tree_classifier = tree.DecisionTreeClassifier(max_depth = 17, random_state=0)\n",
    "tree_classifier.fit(train_preprocessed, train_target)"
   ]
  },
  {
   "cell_type": "code",
   "execution_count": 54,
   "metadata": {},
   "outputs": [
    {
     "name": "stdout",
     "output_type": "stream",
     "text": [
      "Top 25 features in the tree\n",
      "\n",
      "great good amazing best delicious friendly nice fantastic loved awesome love perfect happy restaurant excellent enjoyed definitely way don quickly pale recent beans kabuki par\n"
     ]
    }
   ],
   "source": [
    "def print_top25_features_in_trees(vectorizer, clf):\n",
    "    \"\"\"Prints features with the highest coefficient values\"\"\"\n",
    "    feature_names = vectorizer.get_feature_names()\n",
    "    \n",
    "    top25 = np.argsort(clf.feature_importances_)[-25:]\n",
    "    reversed_top = top25[::-1]\n",
    "    print(\"Top 25 features in the tree\\n\")\n",
    "    print(\"%s\" % ( \" \".join(feature_names[j] for j in reversed_top)))\n",
    "\n",
    "print_top25_features_in_trees(vectorizer,tree_classifier)"
   ]
  },
  {
   "cell_type": "markdown",
   "metadata": {},
   "source": [
    "Claramente predominan las palabras de sentimiento positivo, esto se puede deber a que estas palabras sólo estarán en mensajes con sentimiento positivo y muy difícilmente aparecerán en mensajes negativos.  \n",
    "Hay dlgo de ruido, encontramos palabras que no denotan ningún sentimiento específico como \"par\", \"way\" o \"restaurant\"."
   ]
  },
  {
   "cell_type": "markdown",
   "metadata": {},
   "source": [
    "#### Selecciona el mejor clasificador naive bayes y obtén las 25 variables con más presencia en cada clase:¿Tienen sentido las palabras seleccionadas? ¿hay ruido (palabras sin sentimiento o de sentimiento opuesto al esperado)? ¿por qué crees que suceden estos fenómenos?"
   ]
  },
  {
   "cell_type": "markdown",
   "metadata": {},
   "source": [
    "El mejor clasificador naive bayes que hemos obtenido es el que utiliza la frecuencia binaria y bigramas con un una precision en test de un 73,2%"
   ]
  },
  {
   "cell_type": "code",
   "execution_count": 87,
   "metadata": {},
   "outputs": [
    {
     "data": {
      "text/plain": [
       "MultinomialNB(alpha=1.0, class_prior=None, fit_prior=True)"
      ]
     },
     "execution_count": 87,
     "metadata": {},
     "output_type": "execute_result"
    }
   ],
   "source": [
    "vectorizer = CountVectorizer(stop_words='english', binary=True, ngram_range = (1,2)) \n",
    "train_vector_data = vectorizer.fit_transform(train_data)\n",
    "\n",
    "feature_names = vectorizer.get_feature_names()\n",
    "test_vector_data = vectorizer.transform(test_data)\n",
    "\n",
    "from sklearn.naive_bayes import MultinomialNB\n",
    "\n",
    "mnb_classifier = MultinomialNB()\n",
    "\n",
    "mnb_classifier.fit(train_vector_data, train_target)"
   ]
  },
  {
   "cell_type": "code",
   "execution_count": 88,
   "metadata": {},
   "outputs": [
    {
     "name": "stdout",
     "output_type": "stream",
     "text": [
      "Top 25 features per class\n",
      "\n",
      "0:   food place service like don good won ve time bad disappointed really worst just wasn minutes did got going eat think terrible came probably times \n",
      "\n",
      "1:   good great food place service really best amazing just nice friendly time delicious love menu staff awesome restaurant like vegas pizza definitely experience loved perfect \n",
      "\n"
     ]
    }
   ],
   "source": [
    "def print_top25_features_per_class_in_NB(vectorizer, clf, class_labels):\n",
    "    \"\"\"Prints features with the highest coefficient values, per class\"\"\"\n",
    "    feature_names = vectorizer.get_feature_names()\n",
    "    print(\"Top 25 features per class\\n\")\n",
    "    for i, class_label in enumerate(class_labels):\n",
    "        top25 = np.argsort(clf.feature_log_prob_[i])[-25:]\n",
    "        reversed_top = top25[::-1]\n",
    "        print(\"%s:   %s\" % (class_label,\n",
    "              \" \".join(feature_names[j] for j in reversed_top)),'\\n')\n",
    "print_top25_features_per_class_in_NB(vectorizer,mnb_classifier,class_labels = [0,1])  "
   ]
  },
  {
   "cell_type": "markdown",
   "metadata": {},
   "source": [
    "Podemos ver que hay varias palabras que las dos clases comparten (food, time, place, service) que son palabras muy comunes para valorar un restaurante (la comida, el servicio, el tiempo de espera o la decoracion del sitio) pero no denotan ningún sentimiento implícito, se usan para acompañar a los adjetivos que sí denotan sentimiento.\n",
    "\n",
    "- En la clase 0 (sentimiento negativo) podemos ver la palabra _good_ que en principio denota un sentimiento positivo pero como tambien hay presencia de negativas (bad, disappointed, worst...), puede que simplemente esté presente junto a una negación. Además hay algo de ruido, aparte de las variables repetidas en ambas clases, como la palabra _think_ que simplemente sirve para expresar una opinión.\n",
    "\n",
    "- En la clase 1 (sentimiento positivo) no encontramos ninguna palabra que en principio exprese sentimiento negativo pero si encontramos algo de ruido como _experience_ o _menu_ que no denota ningún sentimiento. Sin embargo, como la gran mayoría son adjetivos positivos es bastante seguro asumir que este 'ruido' viene acompañado de estos para expresar un sentimiento positivo. Además tenemos la palabra _pizza_ que podría significar que es un plato que suele gustar."
   ]
  },
  {
   "cell_type": "markdown",
   "metadata": {},
   "source": [
    "#### Conclusiones"
   ]
  },
  {
   "cell_type": "markdown",
   "metadata": {},
   "source": [
    "- Los árboles de decisión sirven bastante bien para este problema ya que son un clasificador bastante genérico y polivalente. Además no influye demasiado el uso de monogramas o bigramas, pero si mejora los resultados el usar TF-IDF en vez de valores bianrios ya que el clasificador puede decidir mejor que variables son más relevantes.\n",
    "- El Naive Bayes (Multinomial) obtiene resultados algo mejores que el árbol ya que tiene en cuenta todas las palabras a la vez y decide en función de la probabilidad que tiene cada una de aparecer en cada clase.\n",
    "\n",
    "> De esto podemos concluir que añadir complejidad, TF-IDF o bigramas, puede resultar útil pero depende del tipo de clasificador que usemos será mejor una cosa o la otra.\n",
    "\n",
    "- Por lo general, las variables que denotan sentimiento positivo tiene más peso, esto se puede deber a que es más difícil que aparezcan palabras positivas en textos con intención negativa.\n",
    "Además la mayoría de las variables significantes son adjetivos, que obviamente sirven específicamente para describir sentimientos."
   ]
  },
  {
   "cell_type": "markdown",
   "metadata": {},
   "source": [
    "## B) Evaluación detallada"
   ]
  },
  {
   "cell_type": "code",
   "execution_count": 46,
   "metadata": {},
   "outputs": [
    {
     "name": "stdout",
     "output_type": "stream",
     "text": [
      "37\n"
     ]
    }
   ],
   "source": [
    "# Mejor clasificador naive bayes :frecuencia binaria y bigramas\n",
    "vectorizer = CountVectorizer(stop_words='english', binary=True, ngram_range = (1,2)) \n",
    "train_vector_data = vectorizer.fit_transform(train_data)\n",
    "\n",
    "feature_names = vectorizer.get_feature_names()\n",
    "test_vector_data = vectorizer.transform(test_data)\n",
    "\n",
    "from sklearn.naive_bayes import MultinomialNB\n",
    "\n",
    "mnb_classifier = MultinomialNB()\n",
    "\n",
    "mnb_classifier.fit(train_vector_data, train_target)\n",
    "\n",
    "mnb_train_predictions = mnb_classifier.predict(train_vector_data)\n",
    "mnb_test_predictions = mnb_classifier.predict(test_vector_data)\n",
    "\n",
    "mnb_false_pos,mnb_false_neg = 0,0\n",
    "for i in range(len(mnb_test_predictions)):\n",
    "    if(mnb_test_predictions[i] == 1 and test_target[i] == 0):\n",
    "        mnb_false_pos += 1\n",
    "    elif(mnb_test_predictions[i] == 0 and test_target[i] == 1):\n",
    "        mnb_false_neg +=1\n",
    "print(mnb_false_pos)"
   ]
  },
  {
   "cell_type": "code",
   "execution_count": 89,
   "metadata": {},
   "outputs": [],
   "source": [
    "# Mejor clasicador arbol de decision :frecuencia tf/idf y monograma(dan el mismo resultado monogramas y bigramas)\n",
    "tree_classifier = tree.DecisionTreeClassifier(max_depth = 17, random_state=0)\n",
    "tree_classifier.fit(train_preprocessed, train_target)\n",
    "\n",
    "tree_train_predictions = tree_classifier.predict(train_preprocessed)\n",
    "tree_test_predictions = tree_classifier.predict(test_preprocessed)"
   ]
  },
  {
   "cell_type": "code",
   "execution_count": 48,
   "metadata": {},
   "outputs": [
    {
     "name": "stdout",
     "output_type": "stream",
     "text": [
      "Clasificador Naive Bayes\n",
      "                      precision    recall  f1-score   support\n",
      "\n",
      "Sentimiento negativo       0.73      0.68      0.70       117\n",
      "Sentimiento positivo       0.74      0.77      0.75       133\n",
      "\n",
      "            accuracy                           0.73       250\n",
      "           macro avg       0.73      0.73      0.73       250\n",
      "        weighted avg       0.73      0.73      0.73       250\n",
      "\n",
      "[[ 80  37]\n",
      " [ 30 103]]\n",
      "Clasificador Arbol de decision\n",
      "                      precision    recall  f1-score   support\n",
      "\n",
      "Sentimiento negativo       0.63      0.97      0.76       117\n",
      "Sentimiento positivo       0.94      0.50      0.66       133\n",
      "\n",
      "            accuracy                           0.72       250\n",
      "           macro avg       0.79      0.73      0.71       250\n",
      "        weighted avg       0.80      0.72      0.71       250\n",
      "\n",
      "[[113   4]\n",
      " [ 66  67]]\n"
     ]
    }
   ],
   "source": [
    "from sklearn.metrics import classification_report, confusion_matrix\n",
    "print(\"Clasificador Naive Bayes\")\n",
    "print(classification_report(y_true = test_target, y_pred = mnb_test_predictions, target_names = [\"Sentimiento negativo\", \"Sentimiento positivo\"]))\n",
    "print(confusion_matrix(y_true = test_target, y_pred = mnb_test_predictions))\n",
    "print(\"Clasificador Arbol de decision\")\n",
    "print(classification_report(y_true = test_target, y_pred = tree_test_predictions, target_names = [\"Sentimiento negativo\", \"Sentimiento positivo\"]))\n",
    "print(confusion_matrix(y_true = test_target, y_pred = tree_test_predictions))"
   ]
  },
  {
   "cell_type": "markdown",
   "metadata": {},
   "source": [
    "Podemos ver que aunque los dos clasificadores tienen casi la misma precisión en general (el mnb falla en 67 casos de 250 y el arbol en 70 de 250) el numero de falsos positivos y el de falsos negativos varía mucho entre los clasificadores.\n",
    "El Naive Bayes es un clasificador mucho más homogéneo como podemos observar en el ratio de falsos positivos/falsos negativos; este clasificador resulta en 37 casos de falsos positivos(clasifica como positivo pero en realidad es negativo) y en 30 casos de falsos negativos(clasifica como negativo pero en realidad es positivo).\n",
    "En cambio el arbol de decisión solo resulta en 4 casos de falsos positivos mientras que el numero de falsos negativos se dispara con 66 casos.\n",
    "Por lo que podemos concluir que el arbol es muy preciso clasificando los positivos(cuando dice que un mensaje es positivo es muy probable que lo sea pero no en el casos de los negativos. En cambio tiene mucha exhaustividad en los negativos, es decir consigue identificar a casi todos los negativos(con solo 4 de negativos que clasifica como positivos).\n",
    "En cambio el Naive Bayes al ser más homogéneo no clasifica mucho mejor una clase que otra, pero también al ser más homogéneo funciona mejor en el caso general(aunque el numero de fallos varie en un 1,2% entre los clasificadores).\n",
    "Los dos tienen más precisión al clasificar la clase positiva, aunque debido a que la diferencia en el naive bayes es nimia no podemos concluir que los dos clasificadores clasifican mejor una clase que otra."
   ]
  },
  {
   "cell_type": "code",
   "execution_count": 49,
   "metadata": {},
   "outputs": [
    {
     "data": {
      "text/plain": [
       "[Text(383.62499999999994, 516.4200000000001, 'X[567] <= 0.072\\ngini = 0.5\\nsamples = 750\\nvalue = [383, 367]\\nclass = neg'),\n",
       " Text(362.1634615384615, 462.06000000000006, 'X[557] <= 0.158\\ngini = 0.496\\nsamples = 701\\nvalue = [383, 318]\\nclass = neg'),\n",
       " Text(262.90384615384613, 407.70000000000005, 'X[39] <= 0.113\\ngini = 0.488\\nsamples = 635\\nvalue = [367, 268]\\nclass = neg'),\n",
       " Text(219.98076923076923, 353.34000000000003, 'X[336] <= 0.118\\ngini = 0.483\\nsamples = 617\\nvalue = [366, 251]\\nclass = neg'),\n",
       " Text(198.51923076923075, 298.98, 'X[874] <= 0.222\\ngini = 0.478\\nsamples = 604\\nvalue = [366, 238]\\nclass = neg'),\n",
       " Text(139.5, 244.62, 'X[520] <= 0.279\\ngini = 0.471\\nsamples = 587\\nvalue = [364, 223]\\nclass = neg'),\n",
       " Text(118.03846153846153, 190.26000000000005, 'X[121] <= 0.26\\ngini = 0.465\\nsamples = 576\\nvalue = [364, 212]\\nclass = neg'),\n",
       " Text(64.38461538461539, 135.90000000000003, 'X[774] <= 0.146\\ngini = 0.457\\nsamples = 558\\nvalue = [361, 197]\\nclass = neg'),\n",
       " Text(42.92307692307692, 81.54000000000002, 'X[470] <= 0.112\\ngini = 0.451\\nsamples = 550\\nvalue = [361, 189]\\nclass = neg'),\n",
       " Text(21.46153846153846, 27.180000000000064, '\\n  (...)  \\n'),\n",
       " Text(64.38461538461539, 27.180000000000064, '\\n  (...)  \\n'),\n",
       " Text(85.84615384615384, 81.54000000000002, 'gini = 0.0\\nsamples = 8\\nvalue = [0, 8]\\nclass = pos'),\n",
       " Text(171.69230769230768, 135.90000000000003, 'X[121] <= 0.457\\ngini = 0.278\\nsamples = 18\\nvalue = [3, 15]\\nclass = pos'),\n",
       " Text(128.76923076923077, 81.54000000000002, 'X[111] <= 0.283\\ngini = 0.124\\nsamples = 15\\nvalue = [1, 14]\\nclass = pos'),\n",
       " Text(107.30769230769229, 27.180000000000064, '\\n  (...)  \\n'),\n",
       " Text(150.23076923076923, 27.180000000000064, '\\n  (...)  \\n'),\n",
       " Text(214.61538461538458, 81.54000000000002, 'X[170] <= 0.306\\ngini = 0.444\\nsamples = 3\\nvalue = [2, 1]\\nclass = neg'),\n",
       " Text(193.15384615384613, 27.180000000000064, '\\n  (...)  \\n'),\n",
       " Text(236.07692307692307, 27.180000000000064, '\\n  (...)  \\n'),\n",
       " Text(160.96153846153845, 190.26000000000005, 'gini = 0.0\\nsamples = 11\\nvalue = [0, 11]\\nclass = pos'),\n",
       " Text(257.53846153846155, 244.62, 'X[1006] <= 0.271\\ngini = 0.208\\nsamples = 17\\nvalue = [2, 15]\\nclass = pos'),\n",
       " Text(236.07692307692307, 190.26000000000005, 'X[932] <= 0.228\\ngini = 0.117\\nsamples = 16\\nvalue = [1, 15]\\nclass = pos'),\n",
       " Text(214.61538461538458, 135.90000000000003, 'gini = 0.0\\nsamples = 15\\nvalue = [0, 15]\\nclass = pos'),\n",
       " Text(257.53846153846155, 135.90000000000003, 'gini = 0.0\\nsamples = 1\\nvalue = [1, 0]\\nclass = neg'),\n",
       " Text(279.0, 190.26000000000005, 'gini = 0.0\\nsamples = 1\\nvalue = [1, 0]\\nclass = neg'),\n",
       " Text(241.44230769230768, 298.98, 'gini = 0.0\\nsamples = 13\\nvalue = [0, 13]\\nclass = pos'),\n",
       " Text(305.82692307692304, 353.34000000000003, 'X[1049] <= 0.241\\ngini = 0.105\\nsamples = 18\\nvalue = [1, 17]\\nclass = pos'),\n",
       " Text(284.3653846153846, 298.98, 'gini = 0.0\\nsamples = 17\\nvalue = [0, 17]\\nclass = pos'),\n",
       " Text(327.2884615384615, 298.98, 'gini = 0.0\\nsamples = 1\\nvalue = [1, 0]\\nclass = neg'),\n",
       " Text(461.4230769230769, 407.70000000000005, 'X[1459] <= 0.179\\ngini = 0.367\\nsamples = 66\\nvalue = [16, 50]\\nclass = pos'),\n",
       " Text(439.96153846153845, 353.34000000000003, 'X[393] <= 0.304\\ngini = 0.342\\nsamples = 64\\nvalue = [14, 50]\\nclass = pos'),\n",
       " Text(418.49999999999994, 298.98, 'X[557] <= 0.447\\ngini = 0.328\\nsamples = 63\\nvalue = [13, 50]\\nclass = pos'),\n",
       " Text(364.8461538461538, 244.62, 'X[634] <= 0.198\\ngini = 0.265\\nsamples = 51\\nvalue = [8, 43]\\nclass = pos'),\n",
       " Text(343.38461538461536, 190.26000000000005, 'X[133] <= 0.174\\ngini = 0.241\\nsamples = 50\\nvalue = [7, 43]\\nclass = pos'),\n",
       " Text(321.9230769230769, 135.90000000000003, 'X[39] <= 0.139\\ngini = 0.215\\nsamples = 49\\nvalue = [6, 43]\\nclass = pos'),\n",
       " Text(300.46153846153845, 81.54000000000002, 'X[1263] <= 0.208\\ngini = 0.187\\nsamples = 48\\nvalue = [5, 43]\\nclass = pos'),\n",
       " Text(279.0, 27.180000000000064, '\\n  (...)  \\n'),\n",
       " Text(321.9230769230769, 27.180000000000064, '\\n  (...)  \\n'),\n",
       " Text(343.38461538461536, 81.54000000000002, 'gini = 0.0\\nsamples = 1\\nvalue = [1, 0]\\nclass = neg'),\n",
       " Text(364.8461538461538, 135.90000000000003, 'gini = 0.0\\nsamples = 1\\nvalue = [1, 0]\\nclass = neg'),\n",
       " Text(386.30769230769226, 190.26000000000005, 'gini = 0.0\\nsamples = 1\\nvalue = [1, 0]\\nclass = neg'),\n",
       " Text(472.15384615384613, 244.62, 'X[557] <= 0.509\\ngini = 0.486\\nsamples = 12\\nvalue = [5, 7]\\nclass = pos'),\n",
       " Text(429.23076923076917, 190.26000000000005, 'X[702] <= 0.445\\ngini = 0.32\\nsamples = 5\\nvalue = [4, 1]\\nclass = neg'),\n",
       " Text(407.7692307692307, 135.90000000000003, 'gini = 0.0\\nsamples = 4\\nvalue = [4, 0]\\nclass = neg'),\n",
       " Text(450.6923076923077, 135.90000000000003, 'gini = 0.0\\nsamples = 1\\nvalue = [0, 1]\\nclass = pos'),\n",
       " Text(515.0769230769231, 190.26000000000005, 'X[557] <= 0.908\\ngini = 0.245\\nsamples = 7\\nvalue = [1, 6]\\nclass = pos'),\n",
       " Text(493.6153846153846, 135.90000000000003, 'gini = 0.0\\nsamples = 5\\nvalue = [0, 5]\\nclass = pos'),\n",
       " Text(536.5384615384615, 135.90000000000003, 'gini = 0.5\\nsamples = 2\\nvalue = [1, 1]\\nclass = neg'),\n",
       " Text(461.4230769230769, 298.98, 'gini = 0.0\\nsamples = 1\\nvalue = [1, 0]\\nclass = neg'),\n",
       " Text(482.88461538461536, 353.34000000000003, 'gini = 0.0\\nsamples = 2\\nvalue = [2, 0]\\nclass = neg'),\n",
       " Text(405.08653846153845, 462.06000000000006, 'gini = 0.0\\nsamples = 49\\nvalue = [0, 49]\\nclass = pos')]"
      ]
     },
     "execution_count": 49,
     "metadata": {},
     "output_type": "execute_result"
    },
    {
     "data": {
      "image/png": "[encoded data removed]",
      "text/plain": [
       "<Figure size 720x720 with 1 Axes>"
      ]
     },
     "metadata": {
      "needs_background": "light"
     },
     "output_type": "display_data"
    }
   ],
   "source": [
    "plt.figure(figsize=(10,10))\n",
    "plot_tree(tree_classifier, filled=True,class_names=[\"neg\",\"pos\"],max_depth = 8, rounded=True)\n",
    "\n",
    "# plot_tree(tree_classifier, max_depth = 8)"
   ]
  }
 ],
 "metadata": {
  "kernelspec": {
   "display_name": "Python 3",
   "language": "python",
   "name": "python3"
  },
  "language_info": {
   "codemirror_mode": {
    "name": "ipython",
    "version": 3
   },
   "file_extension": ".py",
   "mimetype": "text/x-python",
   "name": "python",
   "nbconvert_exporter": "python",
   "pygments_lexer": "ipython3",
   "version": "3.7.4"
  }
 },
 "nbformat": 4,
 "nbformat_minor": 4
}
